{
 "cells": [
  {
   "cell_type": "code",
   "execution_count": 1,
   "id": "38cc176a-0f29-4cba-9727-3116663a263c",
   "metadata": {},
   "outputs": [],
   "source": [
    "# AI Powered Document Generation and Analysis"
   ]
  },
  {
   "cell_type": "code",
   "execution_count": 3,
   "id": "efe02076-118f-4a40-85f9-416ade43d260",
   "metadata": {},
   "outputs": [
    {
     "name": "stdout",
     "output_type": "stream",
     "text": [
      "Requirement already satisfied: transformers in c:\\users\\dell\\downloads\\anaconda\\lib\\site-packages (4.51.1)\n",
      "Requirement already satisfied: torch in c:\\users\\dell\\downloads\\anaconda\\lib\\site-packages (2.6.0)\n",
      "Requirement already satisfied: datasets in c:\\users\\dell\\downloads\\anaconda\\lib\\site-packages (3.5.0)\n",
      "Requirement already satisfied: filelock in c:\\users\\dell\\downloads\\anaconda\\lib\\site-packages (from transformers) (3.13.1)\n",
      "Requirement already satisfied: huggingface-hub<1.0,>=0.30.0 in c:\\users\\dell\\downloads\\anaconda\\lib\\site-packages (from transformers) (0.30.2)\n",
      "Requirement already satisfied: numpy>=1.17 in c:\\users\\dell\\downloads\\anaconda\\lib\\site-packages (from transformers) (1.26.4)\n",
      "Requirement already satisfied: packaging>=20.0 in c:\\users\\dell\\downloads\\anaconda\\lib\\site-packages (from transformers) (24.1)\n",
      "Requirement already satisfied: pyyaml>=5.1 in c:\\users\\dell\\downloads\\anaconda\\lib\\site-packages (from transformers) (6.0.1)\n",
      "Requirement already satisfied: regex!=2019.12.17 in c:\\users\\dell\\downloads\\anaconda\\lib\\site-packages (from transformers) (2024.9.11)\n",
      "Requirement already satisfied: requests in c:\\users\\dell\\downloads\\anaconda\\lib\\site-packages (from transformers) (2.32.3)\n",
      "Requirement already satisfied: tokenizers<0.22,>=0.21 in c:\\users\\dell\\downloads\\anaconda\\lib\\site-packages (from transformers) (0.21.1)\n",
      "Requirement already satisfied: safetensors>=0.4.3 in c:\\users\\dell\\downloads\\anaconda\\lib\\site-packages (from transformers) (0.5.3)\n",
      "Requirement already satisfied: tqdm>=4.27 in c:\\users\\dell\\downloads\\anaconda\\lib\\site-packages (from transformers) (4.66.5)\n",
      "Requirement already satisfied: typing-extensions>=4.10.0 in c:\\users\\dell\\downloads\\anaconda\\lib\\site-packages (from torch) (4.11.0)\n",
      "Requirement already satisfied: networkx in c:\\users\\dell\\downloads\\anaconda\\lib\\site-packages (from torch) (3.3)\n",
      "Requirement already satisfied: jinja2 in c:\\users\\dell\\downloads\\anaconda\\lib\\site-packages (from torch) (3.1.4)\n",
      "Requirement already satisfied: fsspec in c:\\users\\dell\\downloads\\anaconda\\lib\\site-packages (from torch) (2024.6.1)\n",
      "Requirement already satisfied: setuptools in c:\\users\\dell\\downloads\\anaconda\\lib\\site-packages (from torch) (75.1.0)\n",
      "Requirement already satisfied: sympy==1.13.1 in c:\\users\\dell\\downloads\\anaconda\\lib\\site-packages (from torch) (1.13.1)\n",
      "Requirement already satisfied: mpmath<1.4,>=1.1.0 in c:\\users\\dell\\downloads\\anaconda\\lib\\site-packages (from sympy==1.13.1->torch) (1.3.0)\n",
      "Requirement already satisfied: pyarrow>=15.0.0 in c:\\users\\dell\\downloads\\anaconda\\lib\\site-packages (from datasets) (16.1.0)\n",
      "Requirement already satisfied: dill<0.3.9,>=0.3.0 in c:\\users\\dell\\downloads\\anaconda\\lib\\site-packages (from datasets) (0.3.8)\n",
      "Requirement already satisfied: pandas in c:\\users\\dell\\downloads\\anaconda\\lib\\site-packages (from datasets) (2.2.2)\n",
      "Requirement already satisfied: xxhash in c:\\users\\dell\\downloads\\anaconda\\lib\\site-packages (from datasets) (3.5.0)\n",
      "Requirement already satisfied: multiprocess<0.70.17 in c:\\users\\dell\\downloads\\anaconda\\lib\\site-packages (from datasets) (0.70.16)\n",
      "Requirement already satisfied: aiohttp in c:\\users\\dell\\downloads\\anaconda\\lib\\site-packages (from datasets) (3.10.5)\n",
      "Requirement already satisfied: aiohappyeyeballs>=2.3.0 in c:\\users\\dell\\downloads\\anaconda\\lib\\site-packages (from aiohttp->datasets) (2.4.0)\n",
      "Requirement already satisfied: aiosignal>=1.1.2 in c:\\users\\dell\\downloads\\anaconda\\lib\\site-packages (from aiohttp->datasets) (1.2.0)\n",
      "Requirement already satisfied: attrs>=17.3.0 in c:\\users\\dell\\downloads\\anaconda\\lib\\site-packages (from aiohttp->datasets) (23.1.0)\n",
      "Requirement already satisfied: frozenlist>=1.1.1 in c:\\users\\dell\\downloads\\anaconda\\lib\\site-packages (from aiohttp->datasets) (1.4.0)\n",
      "Requirement already satisfied: multidict<7.0,>=4.5 in c:\\users\\dell\\downloads\\anaconda\\lib\\site-packages (from aiohttp->datasets) (6.0.4)\n",
      "Requirement already satisfied: yarl<2.0,>=1.0 in c:\\users\\dell\\downloads\\anaconda\\lib\\site-packages (from aiohttp->datasets) (1.11.0)\n",
      "Requirement already satisfied: charset-normalizer<4,>=2 in c:\\users\\dell\\downloads\\anaconda\\lib\\site-packages (from requests->transformers) (3.3.2)\n",
      "Requirement already satisfied: idna<4,>=2.5 in c:\\users\\dell\\downloads\\anaconda\\lib\\site-packages (from requests->transformers) (3.7)\n",
      "Requirement already satisfied: urllib3<3,>=1.21.1 in c:\\users\\dell\\downloads\\anaconda\\lib\\site-packages (from requests->transformers) (2.2.3)\n",
      "Requirement already satisfied: certifi>=2017.4.17 in c:\\users\\dell\\downloads\\anaconda\\lib\\site-packages (from requests->transformers) (2024.8.30)\n",
      "Requirement already satisfied: colorama in c:\\users\\dell\\downloads\\anaconda\\lib\\site-packages (from tqdm>=4.27->transformers) (0.4.6)\n",
      "Requirement already satisfied: MarkupSafe>=2.0 in c:\\users\\dell\\downloads\\anaconda\\lib\\site-packages (from jinja2->torch) (2.1.3)\n",
      "Requirement already satisfied: python-dateutil>=2.8.2 in c:\\users\\dell\\downloads\\anaconda\\lib\\site-packages (from pandas->datasets) (2.9.0.post0)\n",
      "Requirement already satisfied: pytz>=2020.1 in c:\\users\\dell\\downloads\\anaconda\\lib\\site-packages (from pandas->datasets) (2024.1)\n",
      "Requirement already satisfied: tzdata>=2022.7 in c:\\users\\dell\\downloads\\anaconda\\lib\\site-packages (from pandas->datasets) (2023.3)\n",
      "Requirement already satisfied: six>=1.5 in c:\\users\\dell\\downloads\\anaconda\\lib\\site-packages (from python-dateutil>=2.8.2->pandas->datasets) (1.16.0)\n",
      "Note: you may need to restart the kernel to use updated packages.\n"
     ]
    }
   ],
   "source": [
    "pip install transformers torch datasets"
   ]
  },
  {
   "cell_type": "code",
   "execution_count": 4,
   "id": "64f463e6-0ba7-459d-b38a-b2f7cc00e22c",
   "metadata": {},
   "outputs": [],
   "source": [
    "# Import necessary libraries\n",
    "from transformers import pipeline"
   ]
  },
  {
   "cell_type": "code",
   "execution_count": 5,
   "id": "aca5b430-6df1-4a93-bb77-7fd7ed56be72",
   "metadata": {},
   "outputs": [
    {
     "name": "stderr",
     "output_type": "stream",
     "text": [
      "Device set to use cpu\n"
     ]
    }
   ],
   "source": [
    "# Load summarization pipeline\n",
    "summarizer = pipeline(\"summarization\", model=\"facebook/bart-large-cnn\")"
   ]
  },
  {
   "cell_type": "code",
   "execution_count": 6,
   "id": "9a8b32a5-4a84-4283-aa42-703ffe4bba01",
   "metadata": {},
   "outputs": [],
   "source": [
    "# Input long text \n",
    "long_text = \"\"\"\n",
    "Artificial intelligence (AI) is transforming industries through automation, data analysis, and smart decision-making. \n",
    "From healthcare to finance, AI enables organizations to operate more efficiently and unlock new capabilities. \n",
    "Among its most promising applications is natural language processing (NLP), which empowers machines to understand \n",
    "and generate human language. NLP powers tools like chatbots, virtual assistants, and document summarizers.\n",
    "\"\"\""
   ]
  },
  {
   "cell_type": "code",
   "execution_count": 7,
   "id": "4d94fbbd-213c-49e0-895d-891bc663c639",
   "metadata": {},
   "outputs": [
    {
     "name": "stdout",
     "output_type": "stream",
     "text": [
      "Summary:\n",
      "Artificial intelligence (AI) is transforming industries through automation, data analysis, and smart decision-making. Among its most promising applications is natural language processing (NLP), which empowers machines to understand and generate human language.\n"
     ]
    }
   ],
   "source": [
    "# Generate summary\n",
    "summary = summarizer(long_text, max_length=60, min_length=20, do_sample=False)\n",
    "print(\"Summary:\")\n",
    "print(summary[0]['summary_text'])"
   ]
  },
  {
   "cell_type": "code",
   "execution_count": 8,
   "id": "4cad321a-6d98-4b07-8e95-899cc285b765",
   "metadata": {},
   "outputs": [],
   "source": [
    "# Part 2: Sentiment Analysis"
   ]
  },
  {
   "cell_type": "code",
   "execution_count": 9,
   "id": "2da4b87a-4681-4499-8c2b-0ea2a429e981",
   "metadata": {},
   "outputs": [
    {
     "name": "stderr",
     "output_type": "stream",
     "text": [
      "No model was supplied, defaulted to distilbert/distilbert-base-uncased-finetuned-sst-2-english and revision 714eb0f (https://huggingface.co/distilbert/distilbert-base-uncased-finetuned-sst-2-english).\n",
      "Using a pipeline without specifying a model name and revision in production is not recommended.\n",
      "Device set to use cpu\n"
     ]
    }
   ],
   "source": [
    "# Load sentiment-analysis pipeline\n",
    "sentiment_classifier = pipeline(\"sentiment-analysis\")"
   ]
  },
  {
   "cell_type": "code",
   "execution_count": 10,
   "id": "b1769604-fbb5-4e9d-9764-0effecd72869",
   "metadata": {},
   "outputs": [],
   "source": [
    "# Example texts\n",
    "texts = [\n",
    "    \"This new AI tool is absolutely amazing!\",\n",
    "    \"The product is okay, but the delivery was late.\",\n",
    "    \"I'm very disappointed with the service.\"\n",
    "]"
   ]
  },
  {
   "cell_type": "code",
   "execution_count": 11,
   "id": "b3c53c94-860d-4158-a27d-8c2d4a393309",
   "metadata": {},
   "outputs": [
    {
     "name": "stdout",
     "output_type": "stream",
     "text": [
      "\n",
      "Text: This new AI tool is absolutely amazing!\n",
      "Sentiment: POSITIVE (Score: 1.0)\n",
      "\n",
      "Text: The product is okay, but the delivery was late.\n",
      "Sentiment: NEGATIVE (Score: 1.0)\n",
      "\n",
      "Text: I'm very disappointed with the service.\n",
      "Sentiment: NEGATIVE (Score: 1.0)\n"
     ]
    }
   ],
   "source": [
    "# Predict sentiment\n",
    "for text in texts:\n",
    "    result = sentiment_classifier(text)[0]\n",
    "    print(f\"\\nText: {text}\")\n",
    "    print(f\"Sentiment: {result['label']} (Score: {round(result['score'], 2)})\")"
   ]
  },
  {
   "cell_type": "code",
   "execution_count": 12,
   "id": "7324df06-cd1e-4efd-a6ca-33050d59cfc2",
   "metadata": {},
   "outputs": [],
   "source": [
    "# can load a .txt file and analyze its content:"
   ]
  },
  {
   "cell_type": "code",
   "execution_count": 17,
   "id": "9f5ab30c-a077-4bfd-bc56-edb9612313d7",
   "metadata": {},
   "outputs": [
    {
     "name": "stdout",
     "output_type": "stream",
     "text": [
      "Summary: Amyotrophic lateral sclerosis (ALS) is incurable neurological disorder with rapidly progressive course. Common early symptoms of ALS are difficulty in swallowing and speech. Early acoustic manifestation of speech and voice symptoms is very variable, that making their detection very challenging. This study presents an approach to voice assessment for automatic system that separates healthy people from patients with ALS.\n"
     ]
    }
   ],
   "source": [
    "def load_text_file(path):\n",
    "    with open(path, 'r', encoding='utf-8') as file:\n",
    "        return file.read()\n",
    "\n",
    "document = load_text_file(\"C:/Users/DELL/Documents/Advanced topics/Amyotrophic lateral sclerosis (ALS).txt\") # Change the path of the file need to be used\n",
    "summary = summarizer(document, max_length=100, min_length=30, do_sample=False)\n",
    "print(\"Summary:\", summary[0]['summary_text'])\n"
   ]
  },
  {
   "cell_type": "code",
   "execution_count": null,
   "id": "49d61560-badf-4f78-92e9-9b153c58844e",
   "metadata": {},
   "outputs": [],
   "source": []
  }
 ],
 "metadata": {
  "kernelspec": {
   "display_name": "Python 3 (ipykernel)",
   "language": "python",
   "name": "python3"
  },
  "language_info": {
   "codemirror_mode": {
    "name": "ipython",
    "version": 3
   },
   "file_extension": ".py",
   "mimetype": "text/x-python",
   "name": "python",
   "nbconvert_exporter": "python",
   "pygments_lexer": "ipython3",
   "version": "3.12.7"
  }
 },
 "nbformat": 4,
 "nbformat_minor": 5
}
